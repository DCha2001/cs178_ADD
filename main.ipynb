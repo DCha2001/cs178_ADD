{
 "cells": [
  {
   "cell_type": "code",
   "execution_count": 6,
   "metadata": {},
   "outputs": [
    {
     "ename": "ModuleNotFoundError",
     "evalue": "No module named 'torch'",
     "output_type": "error",
     "traceback": [
      "\u001b[1;31m---------------------------------------------------------------------------\u001b[0m",
      "\u001b[1;31mModuleNotFoundError\u001b[0m                       Traceback (most recent call last)",
      "Cell \u001b[1;32mIn[6], line 1\u001b[0m\n\u001b[1;32m----> 1\u001b[0m \u001b[38;5;28;01mimport\u001b[39;00m \u001b[38;5;21;01mtorch\u001b[39;00m\n\u001b[0;32m      2\u001b[0m \u001b[38;5;28;01mimport\u001b[39;00m \u001b[38;5;21;01mpickle\u001b[39;00m\n\u001b[0;32m      3\u001b[0m \u001b[38;5;28;01mimport\u001b[39;00m \u001b[38;5;21;01mnumpy\u001b[39;00m \u001b[38;5;28;01mas\u001b[39;00m \u001b[38;5;21;01mnp\u001b[39;00m\n",
      "\u001b[1;31mModuleNotFoundError\u001b[0m: No module named 'torch'"
     ]
    }
   ],
   "source": [
    "import torch\n",
    "import pickle\n",
    "import numpy as np\n",
    "import torch.nn as nn\n",
    "import torch.optim as optim\n",
    "from sklearn.feature_extraction.text import TfidfVectorizer\n",
    "from sklearn.model_selection import train_test_split\n",
    "from sklearn.preprocessing import OneHotEncoder \n",
    "from sklearn.metrics import accuracy_score\n",
    "\n",
    "import json\n",
    "\n",
    "from sentence_transformers import SentenceTransformer\n",
    "model = SentenceTransformer('all-MiniLM-L6-v2')"
   ]
  },
  {
   "cell_type": "raw",
   "metadata": {},
   "source": [
    "Step#1: Preprocessing yelp_academic_dataset_business.json and yelp_academic_dataset_review.json\n",
    "{category, review}"
   ]
  },
  {
   "cell_type": "code",
   "execution_count": 2,
   "metadata": {},
   "outputs": [],
   "source": [
    "business_file = \"yelp_dataset/yelp_academic_dataset_business.json\"\n",
    "\n",
    "categories = {}\n",
    "\n",
    "# Get busines_id and categories\n",
    "with open(business_file, 'r', encoding='utf-8') as f:\n",
    "    for line in f:\n",
    "        # Load JSON data\n",
    "        business = json.loads(line)\n",
    "        \n",
    "        if business['categories'] is not None:\n",
    "            categories[business['business_id']] = business['categories']"
   ]
  },
  {
   "cell_type": "code",
   "execution_count": 3,
   "metadata": {},
   "outputs": [],
   "source": [
    "reviews_file = \"yelp_dataset/yelp_academic_dataset_review.json\"\n",
    "\n",
    "reviews = {}\n",
    "\n",
    "# Get business_id and reviews\n",
    "with open(reviews_file, 'r', encoding='utf-8') as f:\n",
    "    for line in f:\n",
    "        # Load JSON data\n",
    "        review = json.loads(line)\n",
    "        \n",
    "        reviews[review['business_id']] = review['text'] # normalizing"
   ]
  },
  {
   "cell_type": "code",
   "execution_count": 4,
   "metadata": {},
   "outputs": [],
   "source": [
    "pred_dict = {}\n",
    "\n",
    "for biz_id, cats in categories.items():\n",
    "    for c in cats.split(','):\n",
    "        if c not in pred_dict.keys():\n",
    "            pred_dict[c] = []\n",
    "        pred_dict[c].append(reviews[biz_id])"
   ]
  },
  {
   "cell_type": "code",
   "execution_count": 17,
   "metadata": {},
   "outputs": [],
   "source": [
    "# pred_dict['Bubble Tea']"
   ]
  },
  {
   "cell_type": "code",
   "execution_count": 8,
   "metadata": {},
   "outputs": [],
   "source": [
    "# embeddings = model.encode(pred_dict['Bubble Tea'])\n",
    "X = []\n",
    "Y = []\n",
    "\n",
    "for x, y in pred_dict.items():\n",
    "    X.append(model.encode(y))\n",
    "    Y.append(x)\n",
    "\n",
    "# #Print the embeddings\n",
    "# for sentence, embedding in zip(pred_dict['Bubble Tea'], embeddings):\n",
    "#     print(\"Sentence:\", sentence)\n",
    "#     print(\"Embedding:\", embedding)\n",
    "#     print(\"\")"
   ]
  },
  {
   "cell_type": "code",
   "execution_count": 3,
   "metadata": {},
   "outputs": [],
   "source": [
    "if False:\n",
    "    with open('Sentences.pkl', 'wb') as f:\n",
    "        pickle.dump(X, f)\n",
    "    \n",
    "    with open('Labels.pkl', 'wb') as r:\n",
    "        pickle.dump(Y, r)\n",
    "\n",
    "if True:\n",
    "    with open('Sentences.pkl', 'rb') as f:\n",
    "        X = pickle.load(f)\n",
    "    with open('Labels.pkl', 'rb') as r:\n",
    "        Y = pickle.load(r)"
   ]
  },
  {
   "cell_type": "code",
   "execution_count": 5,
   "metadata": {},
   "outputs": [],
   "source": [
    "place_holder = zip(X, Y)\n",
    "X_updated = []\n",
    "Y_updated = []\n",
    "\n",
    "for sentences, label in place_holder:\n",
    "    for sentence in sentences:\n",
    "        s = np.array(sentence)\n",
    "        X_updated.append(s)\n",
    "        Y_updated.append(label)\n",
    "\n"
   ]
  },
  {
   "cell_type": "code",
   "execution_count": 6,
   "metadata": {},
   "outputs": [
    {
     "data": {
      "text/plain": [
       "(668592, 384)"
      ]
     },
     "execution_count": 6,
     "metadata": {},
     "output_type": "execute_result"
    }
   ],
   "source": [
    "features = np.array(X_updated)\n",
    "features.shape"
   ]
  },
  {
   "cell_type": "code",
   "execution_count": 7,
   "metadata": {},
   "outputs": [
    {
     "data": {
      "text/plain": [
       "(668592,)"
      ]
     },
     "execution_count": 7,
     "metadata": {},
     "output_type": "execute_result"
    }
   ],
   "source": [
    "labels = np.array(Y_updated)\n",
    "labels.shape"
   ]
  },
  {
   "cell_type": "code",
   "execution_count": 143,
   "metadata": {},
   "outputs": [
    {
     "data": {
      "text/plain": [
       "(668592, 2454)"
      ]
     },
     "execution_count": 143,
     "metadata": {},
     "output_type": "execute_result"
    }
   ],
   "source": [
    "labels.shape"
   ]
  },
  {
   "cell_type": "code",
   "execution_count": 8,
   "metadata": {},
   "outputs": [],
   "source": [
    "enc = OneHotEncoder()"
   ]
  },
  {
   "cell_type": "code",
   "execution_count": 9,
   "metadata": {},
   "outputs": [],
   "source": [
    "enc.fit(labels.reshape(-1, 1))\n",
    "labels = enc.transform(labels.reshape(-1, 1))"
   ]
  },
  {
   "cell_type": "code",
   "execution_count": 10,
   "metadata": {},
   "outputs": [],
   "source": [
    "X_train, X_test, y_train, y_test = train_test_split(features, labels, test_size=0.2, random_state=42)"
   ]
  },
  {
   "cell_type": "code",
   "execution_count": 142,
   "metadata": {},
   "outputs": [
    {
     "data": {
      "text/plain": [
       "<534873x2454 sparse matrix of type '<class 'numpy.float64'>'\n",
       "\twith 534873 stored elements in Compressed Sparse Row format>"
      ]
     },
     "execution_count": 142,
     "metadata": {},
     "output_type": "execute_result"
    }
   ],
   "source": [
    "y_train"
   ]
  },
  {
   "cell_type": "code",
   "execution_count": 11,
   "metadata": {},
   "outputs": [],
   "source": [
    "X_train = torch.tensor(X_train, dtype=torch.float32).to(torch.int64)\n",
    "X_test = torch.tensor(X_test, dtype=torch.float32).to(torch.int64)\n",
    "y_train = torch.tensor(y_train.todense(), dtype=torch.long)\n",
    "y_test = torch.tensor(y_test.todense(), dtype=torch.long)"
   ]
  },
  {
   "cell_type": "code",
   "execution_count": 12,
   "metadata": {},
   "outputs": [],
   "source": [
    "class CategoryPredictor(nn.Module):\n",
    "    def __init__(self, input_size, hidden_size, output_size):\n",
    "        super(CategoryPredictor, self).__init__()\n",
    "        self.embedding = nn.Embedding(input_size, hidden_size)\n",
    "        self.fc1 = nn.Linear(hidden_size, 128)\n",
    "        self.fc2 = nn.Linear(128, output_size)\n",
    "        self.relu = nn.ReLU()\n",
    "        self.softmax = nn.LogSoftmax(dim=1)\n",
    "\n",
    "    def forward(self, x):\n",
    "        x = self.embedding(x)\n",
    "        x = torch.mean(x, dim=1)  # Average pooling over the sequence length\n",
    "        x = self.fc1(x)\n",
    "        x = self.relu(x)\n",
    "        x = self.fc2(x)\n",
    "        x = self.softmax(x)\n",
    "        return x"
   ]
  },
  {
   "cell_type": "code",
   "execution_count": 13,
   "metadata": {},
   "outputs": [],
   "source": [
    "class run_model:\n",
    "    def __init__(self, input_size, hidden_size, output_size):\n",
    "        self.model = CategoryPredictor(input_size, hidden_size, output_size)\n",
    "        self.criterion = nn.CrossEntropyLoss()\n",
    "        self.optimizer = optim.Adam(self.model.parameters(), lr=0.001)\n",
    "        \n",
    "\n",
    "    def run(self, epochs, X_train_tfidf, y_train):\n",
    "        num_epochs = epochs\n",
    "        for epoch in range(num_epochs):\n",
    "            outputs = self.model(X_train_tfidf)\n",
    "            loss = self.criterion(outputs, y_train)\n",
    "            self.optimizer.zero_grad()\n",
    "            loss.backward()\n",
    "            self.optimizer.step()\n",
    "        print(\"Done\")\n",
    "\n",
    "    def evaluate(self, X_test_tfidf, y_test):\n",
    "        with torch.no_grad():\n",
    "            self.model.eval()\n",
    "            predictions = self.model(X_test_tfidf)\n",
    "            _, predicted_labels = torch.max(predictions, 1)\n",
    "            return accuracy_score(y_test, predicted_labels.numpy())"
   ]
  },
  {
   "cell_type": "code",
   "execution_count": null,
   "metadata": {},
   "outputs": [],
   "source": [
    "input_size = X_train.shape[0]\n",
    "hidden_size = 50 \n",
    "output_size = labels.shape[1]\n",
    "\n",
    "model = run_model(input_size, hidden_size, output_size)\n",
    "model.run(10, X_train, y_train)\n",
    "accuracy = model.evaluate(X_test, y_test)"
   ]
  }
 ],
 "metadata": {
  "kernelspec": {
   "display_name": "Python 3 (ipykernel)",
   "language": "python",
   "name": "python3"
  },
  "language_info": {
   "codemirror_mode": {
    "name": "ipython",
    "version": 3
   },
   "file_extension": ".py",
   "mimetype": "text/x-python",
   "name": "python",
   "nbconvert_exporter": "python",
   "pygments_lexer": "ipython3",
   "version": "3.10.13"
  }
 },
 "nbformat": 4,
 "nbformat_minor": 4
}
