{
 "cells": [
  {
   "cell_type": "code",
   "execution_count": 71,
   "metadata": {},
   "outputs": [],
   "source": [
    "import torch\n",
    "import pickle\n",
    "import numpy as np\n",
    "import torch.nn as nn\n",
    "import torch.optim as optim\n",
    "from sklearn.feature_extraction.text import TfidfVectorizer\n",
    "from sklearn.model_selection import train_test_split\n",
    "from sklearn.preprocessing import OneHotEncoder \n",
    "from sklearn.metrics import accuracy_score\n",
    "from torch.utils.data import DataLoader, TensorDataset\n",
    "\n",
    "import json\n",
    "\n",
    "from sentence_transformers import SentenceTransformer\n",
    "model = SentenceTransformer('all-MiniLM-L6-v2')"
   ]
  },
  {
   "cell_type": "raw",
   "metadata": {},
   "source": [
    "Step#1: Preprocessing yelp_academic_dataset_business.json and yelp_academic_dataset_review.json\n",
    "{category, review}"
   ]
  },
  {
   "cell_type": "code",
   "execution_count": 45,
   "metadata": {},
   "outputs": [],
   "source": [
    "business_file = \"yelp_dataset/yelp_academic_dataset_business.json\"\n",
    "\n",
    "categories = {}\n",
    "\n",
    "# Get busines_id and categories\n",
    "with open(business_file, 'r', encoding='utf-8') as f:\n",
    "    for line in f:\n",
    "        # Load JSON data\n",
    "        business = json.loads(line)\n",
    "        \n",
    "        if business['categories'] is not None:\n",
    "            categories[business['business_id']] = business['categories']"
   ]
  },
  {
   "cell_type": "code",
   "execution_count": 46,
   "metadata": {},
   "outputs": [],
   "source": [
    "reviews_file = \"yelp_dataset/yelp_academic_dataset_review.json\"\n",
    "\n",
    "reviews = {}\n",
    "\n",
    "# Get business_id and reviews\n",
    "with open(reviews_file, 'r', encoding='utf-8') as f:\n",
    "    for line in f:\n",
    "        # Load JSON data\n",
    "        review = json.loads(line)\n",
    "        \n",
    "        reviews[review['business_id']] = review['text'] # normalizing"
   ]
  },
  {
   "cell_type": "code",
   "execution_count": 47,
   "metadata": {},
   "outputs": [],
   "source": [
    "pred_dict = {}\n",
    "\n",
    "for biz_id, cats in categories.items():\n",
    "    for c in cats.split(','):\n",
    "        if c not in pred_dict.keys():\n",
    "            pred_dict[c] = []\n",
    "        pred_dict[c].append(reviews[biz_id])"
   ]
  },
  {
   "cell_type": "code",
   "execution_count": 48,
   "metadata": {},
   "outputs": [
    {
     "data": {
      "text/plain": [
       "2454"
      ]
     },
     "execution_count": 48,
     "metadata": {},
     "output_type": "execute_result"
    }
   ],
   "source": [
    "len(pred_dict)"
   ]
  },
  {
   "cell_type": "markdown",
   "metadata": {},
   "source": [
    "Decrease the reviews per category by 50%, if one left, delete category. Also decrease categories by 50%"
   ]
  },
  {
   "cell_type": "code",
   "execution_count": 49,
   "metadata": {},
   "outputs": [],
   "source": [
    "c = int(len(pred_dict.keys()) * 0.5)\n",
    "to_delete = list(pred_dict.keys())[0: c]\n",
    "\n",
    "for k in to_delete:\n",
    "    pred_dict.pop(k)"
   ]
  },
  {
   "cell_type": "code",
   "execution_count": 50,
   "metadata": {},
   "outputs": [
    {
     "data": {
      "text/plain": [
       "1227"
      ]
     },
     "execution_count": 50,
     "metadata": {},
     "output_type": "execute_result"
    }
   ],
   "source": [
    "len(pred_dict)"
   ]
  },
  {
   "cell_type": "code",
   "execution_count": 51,
   "metadata": {},
   "outputs": [],
   "source": [
    "temp = pred_dict.copy();\n",
    "for category, reviews in temp.items():\n",
    "    n = len(reviews)\n",
    "    if n== 3:\n",
    "        pred_dict.pop(category)\n",
    "    pred_dict[category] = reviews[0: int(n/2)]"
   ]
  },
  {
   "cell_type": "code",
   "execution_count": 52,
   "metadata": {},
   "outputs": [],
   "source": [
    "# embeddings = model.encode(pred_dict['Bubble Tea'])\n",
    "X = []\n",
    "Y = []\n",
    "\n",
    "for x, y in pred_dict.items():\n",
    "    X.append(model.encode(y))\n",
    "    Y.append(x)\n",
    "\n",
    "# #Print the embeddings\n",
    "# for sentence, embedding in zip(pred_dict['Bubble Tea'], embeddings):\n",
    "#     print(\"Sentence:\", sentence)\n",
    "#     print(\"Embedding:\", embedding)\n",
    "#     print(\"\")"
   ]
  },
  {
   "cell_type": "code",
   "execution_count": 53,
   "metadata": {},
   "outputs": [
    {
     "ename": "KeyError",
     "evalue": "'Bubble Tea'",
     "output_type": "error",
     "traceback": [
      "\u001b[1;31m---------------------------------------------------------------------------\u001b[0m",
      "\u001b[1;31mKeyError\u001b[0m                                  Traceback (most recent call last)",
      "Cell \u001b[1;32mIn[53], line 2\u001b[0m\n\u001b[0;32m      1\u001b[0m \u001b[38;5;66;03m#Print the embeddings\u001b[39;00m\n\u001b[1;32m----> 2\u001b[0m \u001b[38;5;28;01mfor\u001b[39;00m sentence, embedding \u001b[38;5;129;01min\u001b[39;00m \u001b[38;5;28mzip\u001b[39m(\u001b[43mpred_dict\u001b[49m\u001b[43m[\u001b[49m\u001b[38;5;124;43m'\u001b[39;49m\u001b[38;5;124;43mBubble Tea\u001b[39;49m\u001b[38;5;124;43m'\u001b[39;49m\u001b[43m]\u001b[49m, embeddings):\n\u001b[0;32m      3\u001b[0m     \u001b[38;5;28mprint\u001b[39m(\u001b[38;5;124m\"\u001b[39m\u001b[38;5;124mSentence:\u001b[39m\u001b[38;5;124m\"\u001b[39m, sentence)\n\u001b[0;32m      4\u001b[0m     \u001b[38;5;28mprint\u001b[39m(\u001b[38;5;124m\"\u001b[39m\u001b[38;5;124mEmbedding:\u001b[39m\u001b[38;5;124m\"\u001b[39m, embedding)\n",
      "\u001b[1;31mKeyError\u001b[0m: 'Bubble Tea'"
     ]
    }
   ],
   "source": [
    "\n",
    "# #Print the embeddings\n",
    "# for sentence, embedding in zip(pred_dict['Bubble Tea'], embeddings):\n",
    "#     print(\"Sentence:\", sentence)\n",
    "#     print(\"Embedding:\", embedding)\n",
    "#     print(\"\")"
   ]
  },
  {
   "cell_type": "markdown",
   "metadata": {},
   "source": [
    "The data has already been processed into a pkl file for ease:"
   ]
  },
  {
   "cell_type": "code",
   "execution_count": 57,
   "metadata": {},
   "outputs": [],
   "source": [
    "if False:\n",
    "    with open('Sentences.pkl', 'wb') as f:\n",
    "        pickle.dump(X, f)\n",
    "    \n",
    "    with open('Labels.pkl', 'wb') as r:\n",
    "        pickle.dump(Y, r)\n",
    "\n",
    "if True:\n",
    "    with open('Sentences.pkl', 'rb') as f:\n",
    "        X = pickle.load(f)\n",
    "    with open('Labels.pkl', 'rb') as r:\n",
    "        Y = pickle.load(r)"
   ]
  },
  {
   "cell_type": "code",
   "execution_count": 78,
   "metadata": {},
   "outputs": [],
   "source": [
    "place_holder = zip(X, Y)\n",
    "X_updated = []\n",
    "Y_updated = []\n",
    "\n",
    "for sentences, label in place_holder:\n",
    "    for sentence in sentences:\n",
    "        s = np.array(sentence)\n",
    "        X_updated.append(s)\n",
    "        Y_updated.append(label)"
   ]
  },
  {
   "cell_type": "code",
   "execution_count": 79,
   "metadata": {},
   "outputs": [
    {
     "data": {
      "text/plain": [
       "(10645, 384)"
      ]
     },
     "execution_count": 79,
     "metadata": {},
     "output_type": "execute_result"
    }
   ],
   "source": [
    "features = np.array(X_updated)\n",
    "features.shape"
   ]
  },
  {
   "cell_type": "code",
   "execution_count": 80,
   "metadata": {},
   "outputs": [
    {
     "data": {
      "text/plain": [
       "(10645,)"
      ]
     },
     "execution_count": 80,
     "metadata": {},
     "output_type": "execute_result"
    }
   ],
   "source": [
    "labels = np.array(Y_updated)\n",
    "labels.shape"
   ]
  },
  {
   "cell_type": "code",
   "execution_count": 81,
   "metadata": {},
   "outputs": [],
   "source": [
    "enc = OneHotEncoder()"
   ]
  },
  {
   "cell_type": "code",
   "execution_count": 82,
   "metadata": {},
   "outputs": [],
   "source": [
    "enc.fit(labels.reshape(-1, 1))\n",
    "labels = enc.transform(labels.reshape(-1, 1))"
   ]
  },
  {
   "cell_type": "code",
   "execution_count": 83,
   "metadata": {},
   "outputs": [
    {
     "data": {
      "text/plain": [
       "(10645, 1073)"
      ]
     },
     "execution_count": 83,
     "metadata": {},
     "output_type": "execute_result"
    }
   ],
   "source": [
    "labels.shape"
   ]
  },
  {
   "cell_type": "code",
   "execution_count": 84,
   "metadata": {},
   "outputs": [],
   "source": [
    "X_train, X_test, y_train, y_test = train_test_split(features, labels, test_size=0.2, random_state=42)"
   ]
  },
  {
   "cell_type": "code",
   "execution_count": 85,
   "metadata": {},
   "outputs": [
    {
     "data": {
      "text/plain": [
       "<8516x1073 sparse matrix of type '<class 'numpy.float64'>'\n",
       "\twith 8516 stored elements in Compressed Sparse Row format>"
      ]
     },
     "execution_count": 85,
     "metadata": {},
     "output_type": "execute_result"
    }
   ],
   "source": [
    "y_train"
   ]
  },
  {
   "cell_type": "code",
   "execution_count": 86,
   "metadata": {},
   "outputs": [],
   "source": [
    "X_train = torch.tensor(X_train, dtype=torch.float32).to(torch.int64)\n",
    "X_test = torch.tensor(X_test, dtype=torch.float32).to(torch.int64)\n",
    "y_train = torch.tensor(y_train.todense(), dtype=torch.float32)\n",
    "y_test = torch.tensor(y_test.todense(), dtype=torch.float32)"
   ]
  },
  {
   "cell_type": "code",
   "execution_count": 87,
   "metadata": {},
   "outputs": [],
   "source": [
    "train_dataset = TensorDataset(X_train, y_train)\n",
    "train_loader = DataLoader(train_dataset, batch_size=512, shuffle=True, num_workers=4)\n",
    "test_dataset = TensorDataset(X_test, y_test)\n",
    "test_loader = DataLoader(test_dataset, batch_size=512, shuffle=True, num_workers=4)"
   ]
  },
  {
   "cell_type": "code",
   "execution_count": 88,
   "metadata": {},
   "outputs": [],
   "source": [
    "class CategoryPredictor(nn.Module):\n",
    "    def __init__(self, input_size, hidden_size, output_size):\n",
    "        super(CategoryPredictor, self).__init__()\n",
    "        self.embedding = nn.Embedding(input_size, hidden_size)\n",
    "        self.fc1 = nn.Linear(hidden_size, 128)\n",
    "        self.fc2 = nn.Linear(128, output_size)\n",
    "        self.relu = nn.ReLU()\n",
    "        self.softmax = nn.LogSoftmax(dim=1)\n",
    "\n",
    "    def forward(self, x):\n",
    "        x = self.embedding(x)\n",
    "        x = torch.mean(x, dim=1)  # Average pooling over the sequence length\n",
    "        x = self.fc1(x)\n",
    "        x = self.relu(x)\n",
    "        x = self.fc2(x)\n",
    "        x = self.softmax(x)\n",
    "        return x"
   ]
  },
  {
   "cell_type": "code",
   "execution_count": 98,
   "metadata": {},
   "outputs": [],
   "source": [
    "class run_model:\n",
    "    def __init__(self, input_size, hidden_size, output_size, train_loader, test_loader):\n",
    "        self.model = CategoryPredictor(input_size, hidden_size, output_size)\n",
    "        self.criterion = nn.CrossEntropyLoss()\n",
    "        self.optimizer = optim.Adam(self.model.parameters(), lr=0.001)\n",
    "        self.train_loader = train_loader\n",
    "        self.test_loader = test_loader\n",
    "\n",
    "\n",
    "    def run(self, epochs):\n",
    "        num_epochs = epochs\n",
    "        for epoch in range(num_epochs):\n",
    "            print(\"Start:\", epoch)\n",
    "            for small_x, small_y in self.train_loader:\n",
    "                self.optimizer.zero_grad()\n",
    "                print(\"Start Forward Pass:\", epoch)\n",
    "                outputs = self.model(small_x)\n",
    "                print(\"Finished Forward Pass:\", epoch)\n",
    "                loss = self.criterion(outputs, torch.argmax(small_y, dim=1))\n",
    "                print(\"Starting Backpropagation:\", epoch)\n",
    "                loss.backward()\n",
    "                print(\"Finished Backpropagation:\", epoch)\n",
    "                self.optimizer.step()\n",
    "            print(\"Epoch Fin:\", epoch)\n",
    "\n",
    "        print(\"Done\")\n",
    "\n",
    "    def evaluate(self, X_test_tfidf, y_test):\n",
    "        with torch.no_grad():\n",
    "            self.model.eval()\n",
    "            predictions = self.model(X_test_tfidf)\n",
    "            _, predicted_labels = torch.max(predictions, 1)\n",
    "            return accuracy_score(torch.argmax(y_test, dim=1), predicted_labels.numpy())"
   ]
  },
  {
   "cell_type": "code",
   "execution_count": 99,
   "metadata": {},
   "outputs": [
    {
     "name": "stdout",
     "output_type": "stream",
     "text": [
      "Start: 0\n",
      "Start Forward Pass: 0\n",
      "Finished Forward Pass: 0\n",
      "Starting Backpropagation: 0\n",
      "Finished Backpropagation: 0\n",
      "Start Forward Pass: 0\n",
      "Finished Forward Pass: 0\n",
      "Starting Backpropagation: 0\n",
      "Finished Backpropagation: 0\n",
      "Start Forward Pass: 0\n",
      "Finished Forward Pass: 0\n",
      "Starting Backpropagation: 0\n",
      "Finished Backpropagation: 0\n",
      "Start Forward Pass: 0\n",
      "Finished Forward Pass: 0\n",
      "Starting Backpropagation: 0\n",
      "Finished Backpropagation: 0\n",
      "Start Forward Pass: 0\n",
      "Finished Forward Pass: 0\n",
      "Starting Backpropagation: 0\n",
      "Finished Backpropagation: 0\n",
      "Start Forward Pass: 0\n",
      "Finished Forward Pass: 0\n",
      "Starting Backpropagation: 0\n",
      "Finished Backpropagation: 0\n",
      "Start Forward Pass: 0\n",
      "Finished Forward Pass: 0\n",
      "Starting Backpropagation: 0\n",
      "Finished Backpropagation: 0\n",
      "Start Forward Pass: 0\n",
      "Finished Forward Pass: 0\n",
      "Starting Backpropagation: 0\n",
      "Finished Backpropagation: 0\n",
      "Start Forward Pass: 0\n",
      "Finished Forward Pass: 0\n",
      "Starting Backpropagation: 0\n",
      "Finished Backpropagation: 0\n",
      "Start Forward Pass: 0\n",
      "Finished Forward Pass: 0\n",
      "Starting Backpropagation: 0\n",
      "Finished Backpropagation: 0\n",
      "Start Forward Pass: 0\n",
      "Finished Forward Pass: 0\n",
      "Starting Backpropagation: 0\n",
      "Finished Backpropagation: 0\n",
      "Start Forward Pass: 0\n",
      "Finished Forward Pass: 0\n",
      "Starting Backpropagation: 0\n",
      "Finished Backpropagation: 0\n",
      "Start Forward Pass: 0\n",
      "Finished Forward Pass: 0\n",
      "Starting Backpropagation: 0\n",
      "Finished Backpropagation: 0\n",
      "Start Forward Pass: 0\n",
      "Finished Forward Pass: 0\n",
      "Starting Backpropagation: 0\n",
      "Finished Backpropagation: 0\n",
      "Start Forward Pass: 0\n",
      "Finished Forward Pass: 0\n",
      "Starting Backpropagation: 0\n",
      "Finished Backpropagation: 0\n",
      "Start Forward Pass: 0\n",
      "Finished Forward Pass: 0\n",
      "Starting Backpropagation: 0\n",
      "Finished Backpropagation: 0\n",
      "Start Forward Pass: 0\n",
      "Finished Forward Pass: 0\n",
      "Starting Backpropagation: 0\n",
      "Finished Backpropagation: 0\n",
      "Epoch Fin: 0\n",
      "Start: 1\n",
      "Start Forward Pass: 1\n",
      "Finished Forward Pass: 1\n",
      "Starting Backpropagation: 1\n",
      "Finished Backpropagation: 1\n",
      "Start Forward Pass: 1\n",
      "Finished Forward Pass: 1\n",
      "Starting Backpropagation: 1\n",
      "Finished Backpropagation: 1\n",
      "Start Forward Pass: 1\n",
      "Finished Forward Pass: 1\n",
      "Starting Backpropagation: 1\n",
      "Finished Backpropagation: 1\n",
      "Start Forward Pass: 1\n",
      "Finished Forward Pass: 1\n",
      "Starting Backpropagation: 1\n",
      "Finished Backpropagation: 1\n",
      "Start Forward Pass: 1\n",
      "Finished Forward Pass: 1\n",
      "Starting Backpropagation: 1\n",
      "Finished Backpropagation: 1\n",
      "Start Forward Pass: 1\n",
      "Finished Forward Pass: 1\n",
      "Starting Backpropagation: 1\n",
      "Finished Backpropagation: 1\n",
      "Start Forward Pass: 1\n",
      "Finished Forward Pass: 1\n",
      "Starting Backpropagation: 1\n",
      "Finished Backpropagation: 1\n",
      "Start Forward Pass: 1\n",
      "Finished Forward Pass: 1\n",
      "Starting Backpropagation: 1\n",
      "Finished Backpropagation: 1\n",
      "Start Forward Pass: 1\n",
      "Finished Forward Pass: 1\n",
      "Starting Backpropagation: 1\n",
      "Finished Backpropagation: 1\n",
      "Start Forward Pass: 1\n",
      "Finished Forward Pass: 1\n",
      "Starting Backpropagation: 1\n",
      "Finished Backpropagation: 1\n",
      "Start Forward Pass: 1\n",
      "Finished Forward Pass: 1\n",
      "Starting Backpropagation: 1\n",
      "Finished Backpropagation: 1\n",
      "Start Forward Pass: 1\n",
      "Finished Forward Pass: 1\n",
      "Starting Backpropagation: 1\n",
      "Finished Backpropagation: 1\n",
      "Start Forward Pass: 1\n",
      "Finished Forward Pass: 1\n",
      "Starting Backpropagation: 1\n",
      "Finished Backpropagation: 1\n",
      "Start Forward Pass: 1\n",
      "Finished Forward Pass: 1\n",
      "Starting Backpropagation: 1\n",
      "Finished Backpropagation: 1\n",
      "Start Forward Pass: 1\n",
      "Finished Forward Pass: 1\n",
      "Starting Backpropagation: 1\n",
      "Finished Backpropagation: 1\n",
      "Start Forward Pass: 1\n",
      "Finished Forward Pass: 1\n",
      "Starting Backpropagation: 1\n",
      "Finished Backpropagation: 1\n",
      "Start Forward Pass: 1\n",
      "Finished Forward Pass: 1\n",
      "Starting Backpropagation: 1\n",
      "Finished Backpropagation: 1\n",
      "Epoch Fin: 1\n",
      "Start: 2\n",
      "Start Forward Pass: 2\n",
      "Finished Forward Pass: 2\n",
      "Starting Backpropagation: 2\n",
      "Finished Backpropagation: 2\n",
      "Start Forward Pass: 2\n",
      "Finished Forward Pass: 2\n",
      "Starting Backpropagation: 2\n",
      "Finished Backpropagation: 2\n",
      "Start Forward Pass: 2\n",
      "Finished Forward Pass: 2\n",
      "Starting Backpropagation: 2\n",
      "Finished Backpropagation: 2\n",
      "Start Forward Pass: 2\n",
      "Finished Forward Pass: 2\n",
      "Starting Backpropagation: 2\n",
      "Finished Backpropagation: 2\n",
      "Start Forward Pass: 2\n",
      "Finished Forward Pass: 2\n",
      "Starting Backpropagation: 2\n",
      "Finished Backpropagation: 2\n",
      "Start Forward Pass: 2\n",
      "Finished Forward Pass: 2\n",
      "Starting Backpropagation: 2\n",
      "Finished Backpropagation: 2\n",
      "Start Forward Pass: 2\n",
      "Finished Forward Pass: 2\n",
      "Starting Backpropagation: 2\n",
      "Finished Backpropagation: 2\n",
      "Start Forward Pass: 2\n",
      "Finished Forward Pass: 2\n",
      "Starting Backpropagation: 2\n",
      "Finished Backpropagation: 2\n",
      "Start Forward Pass: 2\n",
      "Finished Forward Pass: 2\n",
      "Starting Backpropagation: 2\n",
      "Finished Backpropagation: 2\n",
      "Start Forward Pass: 2\n",
      "Finished Forward Pass: 2\n",
      "Starting Backpropagation: 2\n",
      "Finished Backpropagation: 2\n",
      "Start Forward Pass: 2\n",
      "Finished Forward Pass: 2\n",
      "Starting Backpropagation: 2\n",
      "Finished Backpropagation: 2\n",
      "Start Forward Pass: 2\n",
      "Finished Forward Pass: 2\n",
      "Starting Backpropagation: 2\n",
      "Finished Backpropagation: 2\n",
      "Start Forward Pass: 2\n",
      "Finished Forward Pass: 2\n",
      "Starting Backpropagation: 2\n",
      "Finished Backpropagation: 2\n",
      "Start Forward Pass: 2\n",
      "Finished Forward Pass: 2\n",
      "Starting Backpropagation: 2\n",
      "Finished Backpropagation: 2\n",
      "Start Forward Pass: 2\n",
      "Finished Forward Pass: 2\n",
      "Starting Backpropagation: 2\n",
      "Finished Backpropagation: 2\n",
      "Start Forward Pass: 2\n",
      "Finished Forward Pass: 2\n",
      "Starting Backpropagation: 2\n",
      "Finished Backpropagation: 2\n",
      "Start Forward Pass: 2\n",
      "Finished Forward Pass: 2\n",
      "Starting Backpropagation: 2\n",
      "Finished Backpropagation: 2\n",
      "Epoch Fin: 2\n",
      "Done\n"
     ]
    }
   ],
   "source": [
    "input_size = X_train.shape[0]\n",
    "hidden_size = 50 \n",
    "output_size = labels.shape[1]\n",
    "\n",
    "model = run_model(input_size, hidden_size, output_size, train_loader, test_loader)\n",
    "model.run(3)"
   ]
  },
  {
   "cell_type": "code",
   "execution_count": 100,
   "metadata": {},
   "outputs": [],
   "source": [
    "accuracy = model.evaluate(X_test, y_test)"
   ]
  },
  {
   "cell_type": "code",
   "execution_count": 101,
   "metadata": {},
   "outputs": [
    {
     "data": {
      "text/plain": [
       "0.010803193987787695"
      ]
     },
     "execution_count": 101,
     "metadata": {},
     "output_type": "execute_result"
    }
   ],
   "source": [
    "accuracy"
   ]
  },
  {
   "cell_type": "code",
   "execution_count": null,
   "metadata": {},
   "outputs": [],
   "source": []
  }
 ],
 "metadata": {
  "kernelspec": {
   "display_name": "Python 3 (ipykernel)",
   "language": "python",
   "name": "python3"
  },
  "language_info": {
   "codemirror_mode": {
    "name": "ipython",
    "version": 3
   },
   "file_extension": ".py",
   "mimetype": "text/x-python",
   "name": "python",
   "nbconvert_exporter": "python",
   "pygments_lexer": "ipython3",
   "version": "3.10.13"
  }
 },
 "nbformat": 4,
 "nbformat_minor": 4
}
